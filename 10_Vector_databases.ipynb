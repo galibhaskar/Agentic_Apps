{
 "cells": [
  {
   "cell_type": "markdown",
   "id": "9805dc4e",
   "metadata": {},
   "source": [
    "# Vector Databases (ChromaDB) Practice"
   ]
  },
  {
   "cell_type": "code",
   "execution_count": 1,
   "id": "9cdacd6d",
   "metadata": {},
   "outputs": [],
   "source": [
    "import chromadb\n",
    "\n",
    "# persistent chroma client\n",
    "client = chromadb.PersistentClient(path=\"./data/chroma_db\")"
   ]
  },
  {
   "cell_type": "markdown",
   "id": "64774866",
   "metadata": {},
   "source": [
    "### Creating a collection"
   ]
  },
  {
   "cell_type": "code",
   "execution_count": 2,
   "id": "9f7dc81d",
   "metadata": {},
   "outputs": [],
   "source": [
    "collection1 = client.create_collection(name='collection1')"
   ]
  },
  {
   "cell_type": "markdown",
   "id": "162d2c1d",
   "metadata": {},
   "source": [
    "### Adding documents to the collection"
   ]
  },
  {
   "cell_type": "code",
   "execution_count": 3,
   "id": "1f0ec7a6",
   "metadata": {},
   "outputs": [],
   "source": [
    "collection1.add(ids=[\"id1\", \"id2\"], \n",
    "                documents=[\n",
    "                    \"This is document about pineapple\",\n",
    "                    \"This is document about oranges\"\n",
    "                ])"
   ]
  },
  {
   "cell_type": "markdown",
   "id": "337bd84c",
   "metadata": {},
   "source": [
    "### Querying the chroma db using the document"
   ]
  },
  {
   "cell_type": "code",
   "execution_count": 4,
   "id": "4402c6bd",
   "metadata": {},
   "outputs": [
    {
     "data": {
      "text/plain": [
       "{'ids': [['id1', 'id2']],\n",
       " 'embeddings': None,\n",
       " 'documents': [['This is document about pineapple',\n",
       "   'This is document about oranges']],\n",
       " 'uris': None,\n",
       " 'included': ['metadatas', 'documents', 'distances'],\n",
       " 'data': None,\n",
       " 'metadatas': [[None, None]],\n",
       " 'distances': [[1.0800682306289673, 1.2615830898284912]]}"
      ]
     },
     "execution_count": 4,
     "metadata": {},
     "output_type": "execute_result"
    }
   ],
   "source": [
    "collection1.query(\n",
    "    query_texts=[\"This is a query document about hawaii\"], \n",
    "    n_results=2\n",
    ")"
   ]
  },
  {
   "cell_type": "markdown",
   "id": "e1a3c971",
   "metadata": {},
   "source": [
    "### Read the collection documents data using ID"
   ]
  },
  {
   "cell_type": "code",
   "execution_count": 5,
   "id": "a70498a2",
   "metadata": {},
   "outputs": [
    {
     "data": {
      "text/plain": [
       "{'ids': ['id1'],\n",
       " 'embeddings': None,\n",
       " 'documents': ['This is document about pineapple'],\n",
       " 'uris': None,\n",
       " 'included': ['documents'],\n",
       " 'data': None,\n",
       " 'metadatas': None}"
      ]
     },
     "execution_count": 5,
     "metadata": {},
     "output_type": "execute_result"
    }
   ],
   "source": [
    "collection1.get(ids=[\"id1\"], include=[\"documents\"])"
   ]
  },
  {
   "cell_type": "markdown",
   "id": "f3957124",
   "metadata": {},
   "source": [
    "### Get or create collection"
   ]
  },
  {
   "cell_type": "code",
   "execution_count": 6,
   "id": "c19e2497",
   "metadata": {},
   "outputs": [],
   "source": [
    "collection2 = client.get_or_create_collection(name=\"collection2\")"
   ]
  },
  {
   "cell_type": "markdown",
   "id": "8ce37d48",
   "metadata": {},
   "source": [
    "### Adding embeddings, metadatas(optional) to the collection"
   ]
  },
  {
   "cell_type": "code",
   "execution_count": 7,
   "id": "f3739f45",
   "metadata": {},
   "outputs": [],
   "source": [
    "collection2.add(\n",
    "    ids=[\"id3\"],\n",
    "    embeddings=[[0.1, 0.2, 0.4]],\n",
    "    metadatas=[{\"name\":\"sample metadata\"}]\n",
    ")"
   ]
  },
  {
   "cell_type": "markdown",
   "id": "5f7ab71f",
   "metadata": {},
   "source": [
    "### List collections"
   ]
  },
  {
   "cell_type": "code",
   "execution_count": 8,
   "id": "965c8e2d",
   "metadata": {},
   "outputs": [
    {
     "name": "stdout",
     "output_type": "stream",
     "text": [
      "Available collections: [Collection(name=collection1), Collection(name=collection2)]\n"
     ]
    }
   ],
   "source": [
    "print(\"Available collections:\", client.list_collections())"
   ]
  },
  {
   "cell_type": "markdown",
   "id": "afd9abe8",
   "metadata": {},
   "source": [
    "### Fetching the collection details using include argument"
   ]
  },
  {
   "cell_type": "code",
   "execution_count": 9,
   "id": "5182cf31",
   "metadata": {},
   "outputs": [
    {
     "name": "stdout",
     "output_type": "stream",
     "text": [
      "Fetching data from collection 2 {'ids': ['id3'], 'embeddings': None, 'documents': [None], 'uris': None, 'included': ['documents', 'metadatas'], 'data': None, 'metadatas': [{'name': 'sample metadata'}]}\n"
     ]
    }
   ],
   "source": [
    "print(\"Fetching data from collection 2\", collection2.get(include=[\"documents\", \"metadatas\"]))"
   ]
  },
  {
   "cell_type": "markdown",
   "id": "761c4222",
   "metadata": {},
   "source": [
    "### Updating the data in the collection"
   ]
  },
  {
   "cell_type": "code",
   "execution_count": 10,
   "id": "c6c940fa",
   "metadata": {},
   "outputs": [
    {
     "name": "stdout",
     "output_type": "stream",
     "text": [
      "{'ids': ['id3'], 'embeddings': array([[0.1       , 0.2       , 0.40000001]]), 'documents': None, 'uris': None, 'included': ['metadatas', 'embeddings'], 'data': None, 'metadatas': [{'name': 'updated metadata'}]}\n"
     ]
    }
   ],
   "source": [
    "collection2.update(\n",
    "    ids=[\"id3\"],\n",
    "    metadatas=[{\"name\":\"updated metadata\"}]\n",
    ")\n",
    "\n",
    "print(collection2.get(include=['metadatas', 'embeddings']))"
   ]
  },
  {
   "cell_type": "markdown",
   "id": "dfbead41",
   "metadata": {},
   "source": [
    "### Delete Collections"
   ]
  },
  {
   "cell_type": "code",
   "execution_count": 11,
   "id": "05d6b8c7",
   "metadata": {},
   "outputs": [
    {
     "data": {
      "text/plain": [
       "<bound method Client.list_collections of <chromadb.api.client.Client object at 0x1062052b0>>"
      ]
     },
     "execution_count": 11,
     "metadata": {},
     "output_type": "execute_result"
    }
   ],
   "source": [
    "all_collections = client.list_collections()\n",
    "\n",
    "for collection in all_collections:\n",
    "    client.delete_collection(name=collection.name)\n",
    "\n",
    "client.list_collections"
   ]
  },
  {
   "cell_type": "markdown",
   "id": "f4a2ee1f",
   "metadata": {},
   "source": [
    "### Generate the Ollama Embeddings and store in chromadb"
   ]
  },
  {
   "cell_type": "code",
   "execution_count": 12,
   "id": "d24cecd3",
   "metadata": {},
   "outputs": [],
   "source": [
    "from langchain_ollama import OllamaEmbeddings\n",
    "from langchain_chroma import Chroma\n",
    "\n",
    "# creating chroma instance with ollama embeddings function\n",
    "vector_db = Chroma(\n",
    "        collection_name = \"test-collection\",\n",
    "        embedding_function = OllamaEmbeddings(\n",
    "            model=\"nomic-embed-text\"\n",
    "        ),\n",
    "        persist_directory = \"./data/ollama_embeddings\"\n",
    "    )"
   ]
  },
  {
   "cell_type": "code",
   "execution_count": 13,
   "id": "c062f499",
   "metadata": {},
   "outputs": [],
   "source": [
    "sample_texts = [\n",
    "    \"Educosys has started the second batch of the Gen-AI course\",\n",
    "    \"Educosys has other software engineering courses like HHLD, HLD, LLD, C++\",\n",
    "    \"Generative AI is the popular trend right now in the software engineering\",\n",
    "]"
   ]
  },
  {
   "cell_type": "markdown",
   "id": "e1dab3f4",
   "metadata": {},
   "source": [
    "#### adding the texts to the vector database"
   ]
  },
  {
   "cell_type": "code",
   "execution_count": 14,
   "id": "0dbdc9bf",
   "metadata": {},
   "outputs": [
    {
     "data": {
      "text/plain": [
       "['b4dd171c-813d-47aa-9f20-0a6a0d3a8173',\n",
       " 'd3581a27-ca20-4b0d-9b6b-b5f1e3fecb73',\n",
       " '97c8d557-c0f7-43e7-9331-bc4173041fdf']"
      ]
     },
     "execution_count": 14,
     "metadata": {},
     "output_type": "execute_result"
    }
   ],
   "source": [
    "vector_db.add_texts(sample_texts)"
   ]
  },
  {
   "cell_type": "markdown",
   "id": "dce9fba0",
   "metadata": {},
   "source": [
    "#### creating the embeddings retriever"
   ]
  },
  {
   "cell_type": "code",
   "execution_count": 15,
   "id": "887d9588",
   "metadata": {},
   "outputs": [],
   "source": [
    "retriever = vector_db.as_retriever(search_kwargs={\"k\":2})"
   ]
  },
  {
   "cell_type": "markdown",
   "id": "9392b798",
   "metadata": {},
   "source": [
    "#### running the query on the vector database"
   ]
  },
  {
   "cell_type": "code",
   "execution_count": 17,
   "id": "208f3512",
   "metadata": {},
   "outputs": [
    {
     "data": {
      "text/plain": [
       "'Generative AI is the popular trend right now in the software engineering'"
      ]
     },
     "execution_count": 17,
     "metadata": {},
     "output_type": "execute_result"
    }
   ],
   "source": [
    "response = retriever.invoke(\"What is the trending software engineering technology\")\n",
    "\n",
    "response[0].page_content"
   ]
  }
 ],
 "metadata": {
  "kernelspec": {
   "display_name": "simple-chatbot",
   "language": "python",
   "name": "python3"
  },
  "language_info": {
   "codemirror_mode": {
    "name": "ipython",
    "version": 3
   },
   "file_extension": ".py",
   "mimetype": "text/x-python",
   "name": "python",
   "nbconvert_exporter": "python",
   "pygments_lexer": "ipython3",
   "version": "3.13.5"
  }
 },
 "nbformat": 4,
 "nbformat_minor": 5
}
